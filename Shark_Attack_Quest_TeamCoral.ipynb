{
 "cells": [
  {
   "cell_type": "code",
   "execution_count": 1,
   "id": "f9063c26",
   "metadata": {},
   "outputs": [],
   "source": [
    "import seaborn as sns\n",
    "import matplotlib.pyplot as plt\n",
    "import pandas as pd\n",
    "import numpy as np"
   ]
  },
  {
   "cell_type": "code",
   "execution_count": 2,
   "id": "d5b65038",
   "metadata": {},
   "outputs": [
    {
     "name": "stdout",
     "output_type": "stream",
     "text": [
      "Requirement already satisfied: xlrd in /Users/macos/anaconda3/lib/python3.11/site-packages (2.0.1)\r\n"
     ]
    }
   ],
   "source": [
    "!pip install xlrd"
   ]
  },
  {
   "cell_type": "code",
   "execution_count": 3,
   "id": "62a23369",
   "metadata": {},
   "outputs": [],
   "source": [
    "link=\"https://www.sharkattackfile.net/spreadsheets/GSAF5.xls\""
   ]
  },
  {
   "cell_type": "code",
   "execution_count": 4,
   "id": "ba0fed91",
   "metadata": {},
   "outputs": [],
   "source": [
    "df=pd.read_excel(link)"
   ]
  },
  {
   "cell_type": "code",
   "execution_count": 5,
   "id": "ee10144c",
   "metadata": {},
   "outputs": [],
   "source": [
    "quest_shark=df.copy()"
   ]
  },
  {
   "cell_type": "code",
   "execution_count": 6,
   "id": "af2fb759",
   "metadata": {
    "scrolled": true
   },
   "outputs": [
    {
     "data": {
      "text/html": [
       "<div>\n",
       "<style scoped>\n",
       "    .dataframe tbody tr th:only-of-type {\n",
       "        vertical-align: middle;\n",
       "    }\n",
       "\n",
       "    .dataframe tbody tr th {\n",
       "        vertical-align: top;\n",
       "    }\n",
       "\n",
       "    .dataframe thead th {\n",
       "        text-align: right;\n",
       "    }\n",
       "</style>\n",
       "<table border=\"1\" class=\"dataframe\">\n",
       "  <thead>\n",
       "    <tr style=\"text-align: right;\">\n",
       "      <th></th>\n",
       "      <th>Date</th>\n",
       "      <th>Year</th>\n",
       "      <th>Type</th>\n",
       "      <th>Country</th>\n",
       "      <th>State</th>\n",
       "      <th>Location</th>\n",
       "      <th>Activity</th>\n",
       "      <th>Name</th>\n",
       "      <th>Sex</th>\n",
       "      <th>Age</th>\n",
       "      <th>...</th>\n",
       "      <th>Species</th>\n",
       "      <th>Source</th>\n",
       "      <th>pdf</th>\n",
       "      <th>href formula</th>\n",
       "      <th>href</th>\n",
       "      <th>Case Number</th>\n",
       "      <th>Case Number.1</th>\n",
       "      <th>original order</th>\n",
       "      <th>Unnamed: 21</th>\n",
       "      <th>Unnamed: 22</th>\n",
       "    </tr>\n",
       "  </thead>\n",
       "  <tbody>\n",
       "    <tr>\n",
       "      <th>0</th>\n",
       "      <td>15 Mar 2024</td>\n",
       "      <td>2024.0</td>\n",
       "      <td>Unprovoked</td>\n",
       "      <td>AUSTRALIA</td>\n",
       "      <td>Queensland</td>\n",
       "      <td>Bargara Beach</td>\n",
       "      <td>Swimming</td>\n",
       "      <td>Brooklyn Sauer</td>\n",
       "      <td>F</td>\n",
       "      <td>13</td>\n",
       "      <td>...</td>\n",
       "      <td>Tiger shark</td>\n",
       "      <td>Yahoo News, 3/15/2024</td>\n",
       "      <td>NaN</td>\n",
       "      <td>NaN</td>\n",
       "      <td>NaN</td>\n",
       "      <td>NaN</td>\n",
       "      <td>NaN</td>\n",
       "      <td>NaN</td>\n",
       "      <td>NaN</td>\n",
       "      <td>NaN</td>\n",
       "    </tr>\n",
       "    <tr>\n",
       "      <th>1</th>\n",
       "      <td>04 Mar 2024</td>\n",
       "      <td>2024.0</td>\n",
       "      <td>Unprovoked</td>\n",
       "      <td>USA</td>\n",
       "      <td>Hawaii</td>\n",
       "      <td>Old Man's, Waikiki</td>\n",
       "      <td>Surfing</td>\n",
       "      <td>Matthew White</td>\n",
       "      <td>M</td>\n",
       "      <td>NaN</td>\n",
       "      <td>...</td>\n",
       "      <td>Tiger shark 8'</td>\n",
       "      <td>Surfer, 3/6/2024F</td>\n",
       "      <td>NaN</td>\n",
       "      <td>NaN</td>\n",
       "      <td>NaN</td>\n",
       "      <td>NaN</td>\n",
       "      <td>NaN</td>\n",
       "      <td>NaN</td>\n",
       "      <td>NaN</td>\n",
       "      <td>NaN</td>\n",
       "    </tr>\n",
       "    <tr>\n",
       "      <th>2</th>\n",
       "      <td>02 Mar-2024</td>\n",
       "      <td>2024.0</td>\n",
       "      <td>Unprovoked</td>\n",
       "      <td>USA</td>\n",
       "      <td>Hawaii</td>\n",
       "      <td>Rainbows, Oahu</td>\n",
       "      <td>Swimming</td>\n",
       "      <td>NaN</td>\n",
       "      <td>F</td>\n",
       "      <td>11</td>\n",
       "      <td>...</td>\n",
       "      <td>3' to 4' shark</td>\n",
       "      <td>Hawaii News Now, 3/4/2024</td>\n",
       "      <td>NaN</td>\n",
       "      <td>NaN</td>\n",
       "      <td>NaN</td>\n",
       "      <td>NaN</td>\n",
       "      <td>NaN</td>\n",
       "      <td>NaN</td>\n",
       "      <td>NaN</td>\n",
       "      <td>NaN</td>\n",
       "    </tr>\n",
       "    <tr>\n",
       "      <th>3</th>\n",
       "      <td>25 Feb-2024</td>\n",
       "      <td>2024.0</td>\n",
       "      <td>Unprovoked</td>\n",
       "      <td>AUSTRALIA</td>\n",
       "      <td>Western Australia</td>\n",
       "      <td>Sandlnd Island, Jurian Bay</td>\n",
       "      <td>NaN</td>\n",
       "      <td>female</td>\n",
       "      <td>F</td>\n",
       "      <td>46</td>\n",
       "      <td>...</td>\n",
       "      <td>Tiger shark</td>\n",
       "      <td>WA Today, 2/26/2024</td>\n",
       "      <td>NaN</td>\n",
       "      <td>NaN</td>\n",
       "      <td>NaN</td>\n",
       "      <td>NaN</td>\n",
       "      <td>NaN</td>\n",
       "      <td>NaN</td>\n",
       "      <td>NaN</td>\n",
       "      <td>NaN</td>\n",
       "    </tr>\n",
       "    <tr>\n",
       "      <th>4</th>\n",
       "      <td>14 Feb-2024</td>\n",
       "      <td>2024.0</td>\n",
       "      <td>Unprovoked</td>\n",
       "      <td>INDIA</td>\n",
       "      <td>Maharashtra</td>\n",
       "      <td>Vaitarna River, Palghar District</td>\n",
       "      <td>Fishing</td>\n",
       "      <td>Vicky Suresh Govari</td>\n",
       "      <td>M</td>\n",
       "      <td>32</td>\n",
       "      <td>...</td>\n",
       "      <td>Bull shark, 7'</td>\n",
       "      <td>Times of India, 2/14/2024</td>\n",
       "      <td>NaN</td>\n",
       "      <td>NaN</td>\n",
       "      <td>NaN</td>\n",
       "      <td>NaN</td>\n",
       "      <td>NaN</td>\n",
       "      <td>NaN</td>\n",
       "      <td>NaN</td>\n",
       "      <td>NaN</td>\n",
       "    </tr>\n",
       "  </tbody>\n",
       "</table>\n",
       "<p>5 rows × 23 columns</p>\n",
       "</div>"
      ],
      "text/plain": [
       "          Date    Year        Type    Country              State  \\\n",
       "0  15 Mar 2024  2024.0  Unprovoked  AUSTRALIA         Queensland   \n",
       "1  04 Mar 2024  2024.0  Unprovoked        USA             Hawaii   \n",
       "2  02 Mar-2024  2024.0  Unprovoked        USA             Hawaii   \n",
       "3  25 Feb-2024  2024.0  Unprovoked  AUSTRALIA  Western Australia   \n",
       "4  14 Feb-2024  2024.0  Unprovoked      INDIA        Maharashtra   \n",
       "\n",
       "                           Location  Activity                 Name Sex  Age  \\\n",
       "0                     Bargara Beach  Swimming       Brooklyn Sauer   F   13   \n",
       "1                Old Man's, Waikiki   Surfing        Matthew White   M  NaN   \n",
       "2                    Rainbows, Oahu  Swimming                  NaN   F   11   \n",
       "3        Sandlnd Island, Jurian Bay       NaN               female   F   46   \n",
       "4  Vaitarna River, Palghar District   Fishing  Vicky Suresh Govari   M   32   \n",
       "\n",
       "   ...        Species                      Source  pdf href formula href  \\\n",
       "0  ...     Tiger shark      Yahoo News, 3/15/2024  NaN          NaN  NaN   \n",
       "1  ...  Tiger shark 8'          Surfer, 3/6/2024F  NaN          NaN  NaN   \n",
       "2  ...  3' to 4' shark  Hawaii News Now, 3/4/2024  NaN          NaN  NaN   \n",
       "3  ...     Tiger shark        WA Today, 2/26/2024  NaN          NaN  NaN   \n",
       "4  ...  Bull shark, 7'  Times of India, 2/14/2024  NaN          NaN  NaN   \n",
       "\n",
       "  Case Number Case Number.1 original order Unnamed: 21 Unnamed: 22  \n",
       "0         NaN           NaN            NaN         NaN         NaN  \n",
       "1         NaN           NaN            NaN         NaN         NaN  \n",
       "2         NaN           NaN            NaN         NaN         NaN  \n",
       "3         NaN           NaN            NaN         NaN         NaN  \n",
       "4         NaN           NaN            NaN         NaN         NaN  \n",
       "\n",
       "[5 rows x 23 columns]"
      ]
     },
     "execution_count": 6,
     "metadata": {},
     "output_type": "execute_result"
    }
   ],
   "source": [
    "quest_shark.head()"
   ]
  },
  {
   "cell_type": "code",
   "execution_count": 7,
   "id": "77b54010",
   "metadata": {},
   "outputs": [
    {
     "data": {
      "text/plain": [
       "(6969, 23)"
      ]
     },
     "execution_count": 7,
     "metadata": {},
     "output_type": "execute_result"
    }
   ],
   "source": [
    "quest_shark.shape"
   ]
  },
  {
   "cell_type": "code",
   "execution_count": 8,
   "id": "378eb0ec",
   "metadata": {
    "scrolled": true
   },
   "outputs": [
    {
     "name": "stdout",
     "output_type": "stream",
     "text": [
      "<class 'pandas.core.frame.DataFrame'>\n",
      "RangeIndex: 6969 entries, 0 to 6968\n",
      "Data columns (total 23 columns):\n",
      " #   Column          Non-Null Count  Dtype  \n",
      "---  ------          --------------  -----  \n",
      " 0   Date            6944 non-null   object \n",
      " 1   Year            6942 non-null   float64\n",
      " 2   Type            6926 non-null   object \n",
      " 3   Country         6894 non-null   object \n",
      " 4   State           6462 non-null   object \n",
      " 5   Location        6379 non-null   object \n",
      " 6   Activity        6358 non-null   object \n",
      " 7   Name            6724 non-null   object \n",
      " 8   Sex             6365 non-null   object \n",
      " 9   Age             3950 non-null   object \n",
      " 10  Injury          6909 non-null   object \n",
      " 11  Unnamed: 11     6382 non-null   object \n",
      " 12  Time            3418 non-null   object \n",
      " 13  Species         3812 non-null   object \n",
      " 14  Source          6925 non-null   object \n",
      " 15  pdf             6799 non-null   object \n",
      " 16  href formula    6819 non-null   object \n",
      " 17  href            6796 non-null   object \n",
      " 18  Case Number     6798 non-null   object \n",
      " 19  Case Number.1   6797 non-null   object \n",
      " 20  original order  6799 non-null   float64\n",
      " 21  Unnamed: 21     1 non-null      object \n",
      " 22  Unnamed: 22     2 non-null      object \n",
      "dtypes: float64(2), object(21)\n",
      "memory usage: 1.2+ MB\n"
     ]
    }
   ],
   "source": [
    "quest_shark.info()"
   ]
  },
  {
   "cell_type": "markdown",
   "id": "8955370d",
   "metadata": {},
   "source": [
    "# Cleaning Data:\n",
    "- We will remove the columns that we will not need.\n",
    "- We will remove rows from the DataFrame quest_shark where all values in the row are missing (NaN).\n",
    "- We will remove rows from the DataFrame quest_shark that have less than 8 non-null values.\n",
    "- We will check if we have ducplicates and remove them from our DataFrame\n",
    "\n",
    "\n"
   ]
  },
  {
   "cell_type": "code",
   "execution_count": 9,
   "id": "2a37283b",
   "metadata": {},
   "outputs": [],
   "source": [
    "quest_shark.columns=quest_shark.columns.str.lower().str.replace(\" \",\"_\")"
   ]
  },
  {
   "cell_type": "code",
   "execution_count": 10,
   "id": "f06206ad",
   "metadata": {},
   "outputs": [],
   "source": [
    "quest_shark=quest_shark.drop(columns=['unnamed:_22','unnamed:_21','original_order','case_number.1','case_number',\n",
    "                       'href','href_formula','pdf','unnamed:_11','source'])\n"
   ]
  },
  {
   "cell_type": "code",
   "execution_count": 11,
   "id": "b1a586b8",
   "metadata": {},
   "outputs": [
    {
     "data": {
      "text/html": [
       "<div>\n",
       "<style scoped>\n",
       "    .dataframe tbody tr th:only-of-type {\n",
       "        vertical-align: middle;\n",
       "    }\n",
       "\n",
       "    .dataframe tbody tr th {\n",
       "        vertical-align: top;\n",
       "    }\n",
       "\n",
       "    .dataframe thead th {\n",
       "        text-align: right;\n",
       "    }\n",
       "</style>\n",
       "<table border=\"1\" class=\"dataframe\">\n",
       "  <thead>\n",
       "    <tr style=\"text-align: right;\">\n",
       "      <th></th>\n",
       "      <th>date</th>\n",
       "      <th>year</th>\n",
       "      <th>type</th>\n",
       "      <th>country</th>\n",
       "      <th>state</th>\n",
       "      <th>location</th>\n",
       "      <th>activity</th>\n",
       "      <th>name</th>\n",
       "      <th>sex</th>\n",
       "      <th>age</th>\n",
       "      <th>injury</th>\n",
       "      <th>time</th>\n",
       "      <th>species_</th>\n",
       "    </tr>\n",
       "  </thead>\n",
       "  <tbody>\n",
       "    <tr>\n",
       "      <th>0</th>\n",
       "      <td>15 Mar 2024</td>\n",
       "      <td>2024.0</td>\n",
       "      <td>Unprovoked</td>\n",
       "      <td>AUSTRALIA</td>\n",
       "      <td>Queensland</td>\n",
       "      <td>Bargara Beach</td>\n",
       "      <td>Swimming</td>\n",
       "      <td>Brooklyn Sauer</td>\n",
       "      <td>F</td>\n",
       "      <td>13</td>\n",
       "      <td>Minor injuries to back, abdomen and legs</td>\n",
       "      <td>16h00</td>\n",
       "      <td>Tiger shark</td>\n",
       "    </tr>\n",
       "    <tr>\n",
       "      <th>1</th>\n",
       "      <td>04 Mar 2024</td>\n",
       "      <td>2024.0</td>\n",
       "      <td>Unprovoked</td>\n",
       "      <td>USA</td>\n",
       "      <td>Hawaii</td>\n",
       "      <td>Old Man's, Waikiki</td>\n",
       "      <td>Surfing</td>\n",
       "      <td>Matthew White</td>\n",
       "      <td>M</td>\n",
       "      <td>NaN</td>\n",
       "      <td>No injury, shark bit surfboard</td>\n",
       "      <td>NaN</td>\n",
       "      <td>Tiger shark 8'</td>\n",
       "    </tr>\n",
       "    <tr>\n",
       "      <th>2</th>\n",
       "      <td>02 Mar-2024</td>\n",
       "      <td>2024.0</td>\n",
       "      <td>Unprovoked</td>\n",
       "      <td>USA</td>\n",
       "      <td>Hawaii</td>\n",
       "      <td>Rainbows, Oahu</td>\n",
       "      <td>Swimming</td>\n",
       "      <td>NaN</td>\n",
       "      <td>F</td>\n",
       "      <td>11</td>\n",
       "      <td>Lacerations to left foot</td>\n",
       "      <td>13h30</td>\n",
       "      <td>3' to 4' shark</td>\n",
       "    </tr>\n",
       "    <tr>\n",
       "      <th>3</th>\n",
       "      <td>25 Feb-2024</td>\n",
       "      <td>2024.0</td>\n",
       "      <td>Unprovoked</td>\n",
       "      <td>AUSTRALIA</td>\n",
       "      <td>Western Australia</td>\n",
       "      <td>Sandlnd Island, Jurian Bay</td>\n",
       "      <td>NaN</td>\n",
       "      <td>female</td>\n",
       "      <td>F</td>\n",
       "      <td>46</td>\n",
       "      <td>Leg bitten</td>\n",
       "      <td>11h30</td>\n",
       "      <td>Tiger shark</td>\n",
       "    </tr>\n",
       "    <tr>\n",
       "      <th>4</th>\n",
       "      <td>14 Feb-2024</td>\n",
       "      <td>2024.0</td>\n",
       "      <td>Unprovoked</td>\n",
       "      <td>INDIA</td>\n",
       "      <td>Maharashtra</td>\n",
       "      <td>Vaitarna River, Palghar District</td>\n",
       "      <td>Fishing</td>\n",
       "      <td>Vicky Suresh Govari</td>\n",
       "      <td>M</td>\n",
       "      <td>32</td>\n",
       "      <td>Calf of lower left leg injured</td>\n",
       "      <td>NaN</td>\n",
       "      <td>Bull shark, 7'</td>\n",
       "    </tr>\n",
       "  </tbody>\n",
       "</table>\n",
       "</div>"
      ],
      "text/plain": [
       "          date    year        type    country              state  \\\n",
       "0  15 Mar 2024  2024.0  Unprovoked  AUSTRALIA         Queensland   \n",
       "1  04 Mar 2024  2024.0  Unprovoked        USA             Hawaii   \n",
       "2  02 Mar-2024  2024.0  Unprovoked        USA             Hawaii   \n",
       "3  25 Feb-2024  2024.0  Unprovoked  AUSTRALIA  Western Australia   \n",
       "4  14 Feb-2024  2024.0  Unprovoked      INDIA        Maharashtra   \n",
       "\n",
       "                           location  activity                 name sex  age  \\\n",
       "0                     Bargara Beach  Swimming       Brooklyn Sauer   F   13   \n",
       "1                Old Man's, Waikiki   Surfing        Matthew White   M  NaN   \n",
       "2                    Rainbows, Oahu  Swimming                  NaN   F   11   \n",
       "3        Sandlnd Island, Jurian Bay       NaN               female   F   46   \n",
       "4  Vaitarna River, Palghar District   Fishing  Vicky Suresh Govari   M   32   \n",
       "\n",
       "                                     injury   time        species_  \n",
       "0  Minor injuries to back, abdomen and legs  16h00     Tiger shark  \n",
       "1            No injury, shark bit surfboard    NaN  Tiger shark 8'  \n",
       "2                  Lacerations to left foot  13h30  3' to 4' shark  \n",
       "3                                Leg bitten  11h30     Tiger shark  \n",
       "4            Calf of lower left leg injured    NaN  Bull shark, 7'  "
      ]
     },
     "execution_count": 11,
     "metadata": {},
     "output_type": "execute_result"
    }
   ],
   "source": [
    "quest_shark.head()"
   ]
  },
  {
   "cell_type": "code",
   "execution_count": 12,
   "id": "1c796e08",
   "metadata": {},
   "outputs": [
    {
     "data": {
      "text/plain": [
       "(6969, 13)"
      ]
     },
     "execution_count": 12,
     "metadata": {},
     "output_type": "execute_result"
    }
   ],
   "source": [
    "quest_shark.shape"
   ]
  },
  {
   "cell_type": "code",
   "execution_count": 13,
   "id": "069f0bbc",
   "metadata": {},
   "outputs": [],
   "source": [
    "quest_shark.dropna(how=\"all\",inplace=True)"
   ]
  },
  {
   "cell_type": "code",
   "execution_count": 14,
   "id": "920ecea5",
   "metadata": {},
   "outputs": [
    {
     "data": {
      "text/plain": [
       "(6944, 13)"
      ]
     },
     "execution_count": 14,
     "metadata": {},
     "output_type": "execute_result"
    }
   ],
   "source": [
    "quest_shark.shape"
   ]
  },
  {
   "cell_type": "code",
   "execution_count": 15,
   "id": "fc862f1a",
   "metadata": {},
   "outputs": [],
   "source": [
    "quest_shark=quest_shark.dropna(thresh=7)"
   ]
  },
  {
   "cell_type": "code",
   "execution_count": 16,
   "id": "f4b5be8a",
   "metadata": {},
   "outputs": [
    {
     "data": {
      "text/plain": [
       "(6920, 13)"
      ]
     },
     "execution_count": 16,
     "metadata": {},
     "output_type": "execute_result"
    }
   ],
   "source": [
    "quest_shark.shape"
   ]
  },
  {
   "cell_type": "code",
   "execution_count": 17,
   "id": "a4f84905",
   "metadata": {},
   "outputs": [],
   "source": [
    "quest_shark=quest_shark.dropna(subset='year')"
   ]
  },
  {
   "cell_type": "code",
   "execution_count": 18,
   "id": "4a1787af",
   "metadata": {},
   "outputs": [],
   "source": [
    "quest_shark['year'] =quest_shark['year'].astype(str)\n",
    "quest_shark['year'] =quest_shark[\"year\"].str.replace(\".0\", \"\")"
   ]
  },
  {
   "cell_type": "code",
   "execution_count": 19,
   "id": "db378036",
   "metadata": {
    "scrolled": true
   },
   "outputs": [
    {
     "data": {
      "text/plain": [
       "year\n",
       "2015    143\n",
       "2017    139\n",
       "2016    131\n",
       "2011    128\n",
       "0       127\n",
       "       ... \n",
       "1780      1\n",
       "1779      1\n",
       "1857      1\n",
       "1823      1\n",
       "1771      1\n",
       "Name: count, Length: 254, dtype: int64"
      ]
     },
     "execution_count": 19,
     "metadata": {},
     "output_type": "execute_result"
    }
   ],
   "source": [
    "quest_shark['year'].value_counts()"
   ]
  },
  {
   "cell_type": "code",
   "execution_count": 20,
   "id": "aec4ce06",
   "metadata": {},
   "outputs": [
    {
     "data": {
      "text/plain": [
       "2"
      ]
     },
     "execution_count": 20,
     "metadata": {},
     "output_type": "execute_result"
    }
   ],
   "source": [
    "quest_shark.duplicated().sum()"
   ]
  },
  {
   "cell_type": "code",
   "execution_count": 21,
   "id": "5857dff2",
   "metadata": {
    "scrolled": true
   },
   "outputs": [],
   "source": [
    "quest_shark=quest_shark.drop_duplicates()"
   ]
  },
  {
   "cell_type": "code",
   "execution_count": 22,
   "id": "2a8000f1",
   "metadata": {
    "scrolled": true
   },
   "outputs": [
    {
     "data": {
      "text/plain": [
       "6916"
      ]
     },
     "execution_count": 22,
     "metadata": {},
     "output_type": "execute_result"
    }
   ],
   "source": [
    "len(quest_shark)"
   ]
  },
  {
   "cell_type": "markdown",
   "id": "0d021cde",
   "metadata": {},
   "source": [
    "#### Cleaning Columns:\n",
    "We used a for loop to check what do we have inside each column we will need in our studies for \"MARILM\"\n",
    "- After cleaning the sex ,we create a pie plot showing the distribution of victims by sex using the 'sex' column from our DataFrame quest_shark.\n",
    "- We cleaned the Age , with filling the none values with 'ffill methode' which is filling with forward value.\n",
    "- We cleaned the injuries column according to the severity of the injury, same thing for the activities, we tried to clean them according to similar activities , and we put them in a list , that we used to replace with it in our column to have it more clear , better then have thousand of different activities. \n",
    "- For Species we used the ame method we used in activities and injuries plus 'mapped method', to cretae a new species of shark which is the \"Great Shark\", 70% of the attacks are made by white shark, great shark and tiger shark.\n",
    "- The mapped method we also used it for cleaning the type of attacks. \n"
   ]
  },
  {
   "cell_type": "code",
   "execution_count": 23,
   "id": "dbc5bd3b",
   "metadata": {},
   "outputs": [
    {
     "name": "stdout",
     "output_type": "stream",
     "text": [
      "F\n",
      "M\n",
      "nan\n",
      " M\n",
      "M \n",
      "lli\n",
      "M x 2\n",
      "N\n",
      ".\n"
     ]
    }
   ],
   "source": [
    "list_sex=quest_shark.sex.unique()\n",
    "for sex in list_sex:\n",
    "    print(sex)"
   ]
  },
  {
   "cell_type": "code",
   "execution_count": 24,
   "id": "19dc139d",
   "metadata": {},
   "outputs": [
    {
     "data": {
      "text/plain": [
       "sex\n",
       "M      5576\n",
       "F       779\n",
       "F/M     561\n",
       "Name: count, dtype: int64"
      ]
     },
     "execution_count": 24,
     "metadata": {},
     "output_type": "execute_result"
    }
   ],
   "source": [
    "sex_mapped={'M ':'M','N':'M',' M':'M','.':'M','M x 2':'M','lli':'M'}\n",
    "quest_shark['sex'].replace(sex_mapped, inplace= True)\n",
    "quest_shark['sex'].fillna('F/M', inplace=True)\n",
    "quest_shark['sex'].value_counts()"
   ]
  },
  {
   "cell_type": "code",
   "execution_count": 25,
   "id": "620c8ec0",
   "metadata": {},
   "outputs": [
    {
     "data": {
      "image/png": "[encoded data removed]",
      "text/plain": [
       "<Figure size 640x480 with 1 Axes>"
      ]
     },
     "metadata": {},
     "output_type": "display_data"
    }
   ],
   "source": [
    "sex_of_victims=quest_shark.sex.value_counts()\n",
    "\n",
    "sex_of_victims.plot.pie(autopct='%.1f%%')\n",
    "plt.axis('equal')\n",
    "plt.show()"
   ]
  },
  {
   "cell_type": "code",
   "execution_count": 26,
   "id": "bb969c59",
   "metadata": {
    "scrolled": true
   },
   "outputs": [
    {
     "data": {
      "text/plain": [
       "date        False\n",
       "year        False\n",
       "type         True\n",
       "country      True\n",
       "state        True\n",
       "location     True\n",
       "activity     True\n",
       "name         True\n",
       "sex         False\n",
       "age          True\n",
       "injury       True\n",
       "time         True\n",
       "species_     True\n",
       "dtype: bool"
      ]
     },
     "execution_count": 26,
     "metadata": {},
     "output_type": "execute_result"
    }
   ],
   "source": [
    "quest_shark.isnull().any()"
   ]
  },
  {
   "cell_type": "code",
   "execution_count": 27,
   "id": "3f3a6c0c",
   "metadata": {},
   "outputs": [
    {
     "name": "stdout",
     "output_type": "stream",
     "text": [
      "<class 'pandas.core.frame.DataFrame'>\n",
      "Index: 6916 entries, 0 to 6943\n",
      "Data columns (total 13 columns):\n",
      " #   Column    Non-Null Count  Dtype \n",
      "---  ------    --------------  ----- \n",
      " 0   date      6916 non-null   object\n",
      " 1   year      6916 non-null   object\n",
      " 2   type      6898 non-null   object\n",
      " 3   country   6872 non-null   object\n",
      " 4   state     6455 non-null   object\n",
      " 5   location  6372 non-null   object\n",
      " 6   activity  6345 non-null   object\n",
      " 7   name      6712 non-null   object\n",
      " 8   sex       6916 non-null   object\n",
      " 9   age       3949 non-null   object\n",
      " 10  injury    6886 non-null   object\n",
      " 11  time      3418 non-null   object\n",
      " 12  species_  3809 non-null   object\n",
      "dtypes: object(13)\n",
      "memory usage: 756.4+ KB\n"
     ]
    }
   ],
   "source": [
    "quest_shark.info()"
   ]
  },
  {
   "cell_type": "code",
   "execution_count": 28,
   "id": "6c307186",
   "metadata": {},
   "outputs": [
    {
     "data": {
      "text/plain": [
       "age\n",
       "19          89\n",
       "16          89\n",
       "17          88\n",
       "17          85\n",
       "15          84\n",
       "            ..\n",
       "21 or 26     1\n",
       "21 & ?       1\n",
       "20?          1\n",
       "20/30        1\n",
       "             1\n",
       "Name: count, Length: 243, dtype: int64"
      ]
     },
     "execution_count": 28,
     "metadata": {},
     "output_type": "execute_result"
    }
   ],
   "source": [
    "quest_shark.value_counts('age')"
   ]
  },
  {
   "cell_type": "code",
   "execution_count": 29,
   "id": "1ca251c9",
   "metadata": {},
   "outputs": [],
   "source": [
    "quest_shark.age.fillna(method='ffill', inplace=True)"
   ]
  },
  {
   "cell_type": "code",
   "execution_count": 30,
   "id": "8211576d",
   "metadata": {},
   "outputs": [
    {
     "data": {
      "text/plain": [
       "age\n",
       "16          203\n",
       "18          197\n",
       "17          194\n",
       "15          173\n",
       "17          163\n",
       "           ... \n",
       "30 or 36      1\n",
       "30 & 32       1\n",
       "28 & 26       1\n",
       "28 & 22       1\n",
       "              1\n",
       "Name: count, Length: 243, dtype: int64"
      ]
     },
     "execution_count": 30,
     "metadata": {},
     "output_type": "execute_result"
    }
   ],
   "source": [
    "quest_shark.value_counts('age')"
   ]
  },
  {
   "cell_type": "code",
   "execution_count": null,
   "id": "631f7796",
   "metadata": {
    "scrolled": false
   },
   "outputs": [],
   "source": [
    "list_age=quest_shark.age.unique()\n",
    "for age in list_age:\n",
    "    print(age)"
   ]
  },
  {
   "cell_type": "code",
   "execution_count": 32,
   "id": "93337330",
   "metadata": {},
   "outputs": [],
   "source": [
    "#Is it possible to do split by and or &?\n",
    "quest_shark.age.astype(str)\n",
    "quest_shark.age=quest_shark.age.str.replace('mid-30s',\"35\").str.replace('mid-20s',\"25\")\n",
    "quest_shark.age=quest_shark.age.str.replace(\"20's\",\"25\").str.replace(\"60's\",\"65\").str.replace(\"60s\",\"65\").str.replace(\"30s\",\"35\").str.replace(\"40s\",\"45\").str.replace(\"50s\",\"55\").str.replace(\"20s\",\"25\")\n",
    "quest_shark.age=quest_shark.age.str.replace(\"20/30\",\"25\")\n",
    "quest_shark.age=quest_shark.age.str.replace(\"teen\",\"15\",case=False).str.replace(\"Elderly\",\"60\").str.replace(\"adult\",\"\").str.replace(\"(adult)\",\"\").str.replace('\"middle-age\"',\"35\").str.replace(\"young\",\"22\").str.replace('\"young\"',\"22\")\n",
    "quest_shark.age=quest_shark.age.str.replace(\"Ca. \",\"\").str.replace(\"MAKE LINE GREEN\",\"29\").str.replace(\"A.M\",\"\")\n",
    "quest_shark.age=quest_shark.age.str.replace(\"!\",\"\").str.replace(\" months\",\"\").str.replace(\"a minor\",\"12\").str.replace(\"15s\",\"15\")\n",
    "quest_shark.age=quest_shark.age.str.replace(\"20?\",\"20\").str.replace(\">\",\"\").str.replace(\"X\",\"\").str.replace(\"F\",\"\").str.replace('\"22\"',\"22\").str.replace(\"6½\",\"6\").str.replace(\"2½\",\"2\").str.replace(\"30 or 36\",\"30\").str.replace(\"32 & 30\",\"32\")\n",
    "quest_shark.age=quest_shark.age.str.replace(\"nan\",\"29\").str.replace(\"20/30\",\"25\").str.replace(\"45 and 15\", \"45\").str.replace(\"28 & 22\",\"28\").str.replace(\"22, 57, 31\",\"57\").str.replace(\"9 & 60\",\"9\").str.replace(\"28 & 26\",\"28\").str.replace(\"18 or 20\", \"19\").str.replace(\"12 or 13\",\"12\").str.replace(\"46 & 34\", \"46\").str.replace(\"28, 23 & 30\",\"28\") .str.replace(\"36 & 26\", \"36\").str.replace(\"8 or 10\",\"8\").str.replace(\"21 & ?\",\"21\").str.replace(\"33 or 37\",\"33\").str.replace(\"23 & 20\",\"23\").str.replace(\"7      &    31\",\"7\").str.replace(\"16 to 18\",\"16\").str.replace(\"21 or 26\",\"21\").str.replace(\"18 to 22\",\"18\").str.replace(\"9 & 12\",\"9\").str.replace(\"? & 19\",\"19\").str.replace(\"25 to 35\",\"25\").str.replace(\"23 & 26\",\"23\").str.replace(\"33 & 37\",\"33\").str.replace(\"25 or 28\",\"25\").str.replace(\"37, 67, 35, 27,  ? & 27\",\"35\").str.replace(\"21, 34,24 & 35\",\"34\").str.replace(\"30 & 32\",\"30\").str.replace(\"50 & 30\",\"50\").str.replace(\"17 & 35\",\"17\").str.replace(\"13 or 18\",\"13\").str.replace(\"34 & 19\",\"34\").str.replace(\"33 & 26\",\"33\").str.replace(\"2 to 3\",\"2\").str.replace(\"7 or 8\",\"7\").str.replace(\"17 & 16\",\"17\").str.replace(\"Both 11\",\"11\").str.replace(\"9 or 10\",\"9\").str.replace(\"36 & 23\",\"36\").str.replace(\"?    &   14\",\"14\").str.replace(\"10 or 12\",\"10\").str.replace(\"31 or 33\",\"31\").str.replace(\"13 or 14\",\"13\")\n",
    "quest_shark.age=quest_shark.age.str.replace(\"nan\",\"29\").str.replace(\"M\",\"29\").str.replace(\"()\",\"\").str.replace(\".\",\"29\").str.replace(\" \",\"\")"
   ]
  },
  {
   "cell_type": "code",
   "execution_count": 33,
   "id": "ff84c787",
   "metadata": {},
   "outputs": [
    {
     "data": {
      "text/plain": [
       "age\n",
       "18    201\n",
       "15    200\n",
       "17    167\n",
       "21    161\n",
       "22    154\n",
       "     ... \n",
       "69      1\n",
       "81      1\n",
       "86      1\n",
       "87      1\n",
       "        1\n",
       "Name: count, Length: 80, dtype: int64"
      ]
     },
     "execution_count": 33,
     "metadata": {},
     "output_type": "execute_result"
    }
   ],
   "source": [
    "quest_shark.value_counts('age')"
   ]
  },
  {
   "cell_type": "code",
   "execution_count": 34,
   "id": "336a8c24",
   "metadata": {},
   "outputs": [
    {
     "data": {
      "text/plain": [
       "date        0\n",
       "year        0\n",
       "type        0\n",
       "country     0\n",
       "state       0\n",
       "location    0\n",
       "activity    1\n",
       "name        0\n",
       "sex         0\n",
       "age         0\n",
       "injury      1\n",
       "time        2\n",
       "species_    7\n",
       "dtype: int64"
      ]
     },
     "execution_count": 34,
     "metadata": {},
     "output_type": "execute_result"
    }
   ],
   "source": [
    "quest_shark.eq(\" \").sum()"
   ]
  },
  {
   "cell_type": "code",
   "execution_count": 35,
   "id": "f906d0bf",
   "metadata": {},
   "outputs": [
    {
     "data": {
      "text/plain": [
       "date        0\n",
       "year        0\n",
       "type        0\n",
       "country     0\n",
       "state       0\n",
       "location    0\n",
       "activity    0\n",
       "name        0\n",
       "sex         0\n",
       "age         0\n",
       "injury      0\n",
       "time        0\n",
       "species_    0\n",
       "dtype: int64"
      ]
     },
     "execution_count": 35,
     "metadata": {},
     "output_type": "execute_result"
    }
   ],
   "source": [
    "quest_shark.eq(\"nan \").sum()"
   ]
  },
  {
   "cell_type": "code",
   "execution_count": 36,
   "id": "1acaed0a",
   "metadata": {},
   "outputs": [
    {
     "data": {
      "text/plain": [
       "date           0\n",
       "year           0\n",
       "type          18\n",
       "country       44\n",
       "state        461\n",
       "location     544\n",
       "activity     571\n",
       "name         204\n",
       "sex            0\n",
       "age         3363\n",
       "injury        30\n",
       "time        3498\n",
       "species_    3107\n",
       "dtype: int64"
      ]
     },
     "execution_count": 36,
     "metadata": {},
     "output_type": "execute_result"
    }
   ],
   "source": [
    "quest_shark.isna().sum()"
   ]
  },
  {
   "cell_type": "code",
   "execution_count": null,
   "id": "b0a4a0ba",
   "metadata": {
    "scrolled": true
   },
   "outputs": [],
   "source": [
    "list_age=quest_shark.age.unique()\n",
    "for age in list_age:\n",
    "    print(age)"
   ]
  },
  {
   "cell_type": "code",
   "execution_count": 38,
   "id": "71478a3c",
   "metadata": {
    "scrolled": false
   },
   "outputs": [
    {
     "data": {
      "text/plain": [
       "injury\n",
       "FATAL                                                       858\n",
       "Foot bitten                                                 100\n",
       "Survived                                                     97\n",
       "No injury                                                    85\n",
       "Leg bitten                                                   81\n",
       "                                                           ... \n",
       "Hooked shark bit his leg. PROVOKED INCIDENT                   1\n",
       "Hooked shark bit his nose, arm and leg PROVOKED INCIDENT      1\n",
       "Hooked shark bit rudder PROVOKED INCIDENT                     1\n",
       "Hooked shark bit stern  PROVOKED INCIDENT                     1\n",
       "“Put hand through hatch, shark nearly bit off thumb”          1\n",
       "Name: count, Length: 4068, dtype: int64"
      ]
     },
     "execution_count": 38,
     "metadata": {},
     "output_type": "execute_result"
    }
   ],
   "source": [
    "quest_shark.value_counts('injury')"
   ]
  },
  {
   "cell_type": "code",
   "execution_count": null,
   "id": "c95d74e5",
   "metadata": {},
   "outputs": [],
   "source": [
    "list_injury=quest_shark.injury.unique()\n",
    "for injury in list_injury:\n",
    "    print(injury)"
   ]
  },
  {
   "cell_type": "code",
   "execution_count": 40,
   "id": "66c8fd62",
   "metadata": {},
   "outputs": [],
   "source": [
    "quest_shark.injury.fillna(\"unknown\", inplace=True)"
   ]
  },
  {
   "cell_type": "code",
   "execution_count": 41,
   "id": "e5b4f7c3",
   "metadata": {},
   "outputs": [
    {
     "data": {
      "text/plain": [
       "injury\n",
       "FATAL                                                       858\n",
       "Foot bitten                                                 100\n",
       "Survived                                                     97\n",
       "No injury                                                    85\n",
       "Leg bitten                                                   81\n",
       "                                                           ... \n",
       "Hooked shark bit his leg. PROVOKED INCIDENT                   1\n",
       "Hooked shark bit his nose, arm and leg PROVOKED INCIDENT      1\n",
       "Hooked shark bit rudder PROVOKED INCIDENT                     1\n",
       "Hooked shark bit stern  PROVOKED INCIDENT                     1\n",
       "“Put hand through hatch, shark nearly bit off thumb”          1\n",
       "Name: count, Length: 4068, dtype: int64"
      ]
     },
     "execution_count": 41,
     "metadata": {},
     "output_type": "execute_result"
    }
   ],
   "source": [
    "quest_shark.value_counts('injury')"
   ]
  },
  {
   "cell_type": "code",
   "execution_count": 42,
   "id": "e331034c",
   "metadata": {},
   "outputs": [],
   "source": [
    "#https://pandas.pydata.org/pandas-docs/stable/reference/api/pandas.Series.str.contains.html\n",
    "quest_shark.loc[quest_shark.injury.str.contains(\"fatal|no survivors|dead|died|kill|killed\", case=False, na=False),\"injury\"]=\"Fatal\"\n",
    "quest_shark.loc[quest_shark.injury.str.contains(\"severed|severe|serious\", case=False, na=False),\"injury\"]=\"Severe Injury\"\n",
    "quest_shark.loc[quest_shark.injury.str.contains(\"laceration|lacerations\", case=False, na=False),\"injury\"]=\"Lacerations\"\n",
    "quest_shark.loc[quest_shark.injury.str.contains(\"puncture|punctures\", case=False, na=False),\"injury\"]=\"Punctures\"\n",
    "quest_shark.loc[quest_shark.injury.str.contains(\"cut|cuts\", case=False, na=False),\"injury\"]=\"Cuts\"\n",
    "quest_shark.loc[quest_shark.injury.str.contains(\"drowning|drowned\", case=False, na=False),\"injury\"]=\"Drowning\"\n",
    "quest_shark.loc[quest_shark.injury.str.contains(\"amputated\", case=False, na=False),\"injury\"]=\"Amputated\"\n",
    "quest_shark.loc[quest_shark.injury.str.contains(\"no injury|no injuries\", case=False, na=False),\"injury\"]=\"No Injury\"\n",
    "quest_shark.loc[quest_shark.injury.str.contains(\"bit|bitten|bite\", case=False, na=False),\"injury\"]=\"Bitten\"\n",
    "quest_shark.loc[quest_shark.injury.str.contains(\"kayak|boat|surfboard\", case=False, na=False),\"injury\"]=\"Material Damage\"\n",
    "quest_shark.loc[quest_shark.injury.str.contains(\"injury|injuries|injured\", case=False, na=False),\"injury\"]=\"Injury\"\n",
    "injuries_list=[\"Fatal\",\"Lacerations\",\"Bitten\",\"Punctures\",\"Cuts\",\"Drowning\",\"Amputated\",\"Severe Injury\",\"No Injury\",\"Injury\",\"Material Damage\"]"
   ]
  },
  {
   "cell_type": "code",
   "execution_count": 43,
   "id": "c00019fb",
   "metadata": {},
   "outputs": [],
   "source": [
    "quest_shark.injury=quest_shark.injury.apply(lambda x: x if x in injuries_list else \"Others\")"
   ]
  },
  {
   "cell_type": "code",
   "execution_count": 44,
   "id": "ebf01922",
   "metadata": {},
   "outputs": [
    {
     "data": {
      "text/plain": [
       "injury\n",
       "Injury             1691\n",
       "Fatal              1471\n",
       "Bitten             1360\n",
       "Others             1018\n",
       "Lacerations         907\n",
       "Punctures           198\n",
       "Drowning            109\n",
       "Cuts                 74\n",
       "Amputated            48\n",
       "Material Damage      40\n",
       "Name: count, dtype: int64"
      ]
     },
     "execution_count": 44,
     "metadata": {},
     "output_type": "execute_result"
    }
   ],
   "source": [
    "quest_shark.value_counts('injury')"
   ]
  },
  {
   "cell_type": "code",
   "execution_count": 45,
   "id": "8b202c91",
   "metadata": {
    "scrolled": false
   },
   "outputs": [
    {
     "data": {
      "text/plain": [
       "Text(0.5, 1.0, 'Injuries List')"
      ]
     },
     "execution_count": 45,
     "metadata": {},
     "output_type": "execute_result"
    },
    {
     "data": {
      "image/png": "[encoded data removed]",
      "text/plain": [
       "<Figure size 640x480 with 1 Axes>"
      ]
     },
     "metadata": {},
     "output_type": "display_data"
    }
   ],
   "source": [
    "injury_graph=quest_shark.value_counts('injury')\n",
    "injury_graph.plot.bar()\n",
    "plt.title(\"Injuries List\")"
   ]
  },
  {
   "cell_type": "code",
   "execution_count": 46,
   "id": "38fdd628",
   "metadata": {},
   "outputs": [
    {
     "data": {
      "text/plain": [
       "activity\n",
       "Surfing                                                                         1121\n",
       "Swimming                                                                         974\n",
       "Fishing                                                                          487\n",
       "Spearfishing                                                                     379\n",
       "Wading                                                                           174\n",
       "                                                                                ... \n",
       "Fishing, thrown into water by heavy sea, clinging to rocks at the water line       1\n",
       "Fishing, stepped on hooked shark's head                                            1\n",
       "Fishing, standing in water washing fish                                            1\n",
       "Fishing, standing in water next to purse net                                       1\n",
       "yachtsman in a zodiac                                                              1\n",
       "Name: count, Length: 1581, dtype: int64"
      ]
     },
     "execution_count": 46,
     "metadata": {},
     "output_type": "execute_result"
    }
   ],
   "source": [
    "quest_shark.value_counts(\"activity\")"
   ]
  },
  {
   "cell_type": "code",
   "execution_count": null,
   "id": "f1c7ed9c",
   "metadata": {},
   "outputs": [],
   "source": [
    "list_activity=quest_shark.activity.unique()\n",
    "for activity in list_activity:\n",
    "    print(activity)"
   ]
  },
  {
   "cell_type": "code",
   "execution_count": 48,
   "id": "659f2a3d",
   "metadata": {},
   "outputs": [],
   "source": [
    "quest_shark.injury.fillna(\"unknown\", inplace=True)"
   ]
  },
  {
   "cell_type": "code",
   "execution_count": 49,
   "id": "38f0df3b",
   "metadata": {},
   "outputs": [],
   "source": [
    "quest_shark.loc[quest_shark.activity.str.contains(\"surf|paddle|bodyboard|SUP|board\", case=False, na=False),\"activity\"]=\"Surfing\"\n",
    "quest_shark.loc[quest_shark.activity.str.contains(\"fishing|fihing\", case=False, na=False),\"activity\"]=\"Fishing\"\n",
    "quest_shark.loc[quest_shark.activity.str.contains(\"swimming|float|swim\", case=False, na=False),\"activity\"]=\"Swimming\"\n",
    "quest_shark.loc[quest_shark.activity.str.contains(\"filming|selfie|photo\", case=False, na=False),\"activity\"]=\"Multimedia\"\n",
    "quest_shark.loc[quest_shark.activity.str.contains(\"wading|walking|walk\", case=False, na=False),\"activity\"]=\"Wading\"\n",
    "quest_shark.loc[quest_shark.activity.str.contains(\"diving|dive|cage|snorkeling|snork\", case=False, na=False),\"activity\"]=\"Diving\"\n",
    "quest_shark.loc[quest_shark.activity.str.contains(\"kayak\", case=False, na=False),\"activity\"]=\"Kayaking\"\n",
    "quest_shark.loc[quest_shark.activity.str.contains(\"bath\", case=False, na=False),\"activity\"]=\"Bathing\"\n",
    "quest_shark.loc[quest_shark.activity.str.contains(\"disaster\", case=False, na=False),\"activity\"]=\"Sea Disaster\"\n",
    "activities_list=[\"Surfing\", \"Fishing\", \"Swimming\", \"Multimedia\", \"Wading\", \"Diving\", \"Kayaking\", \"Bathing\",\"Sea Disaster\"]"
   ]
  },
  {
   "cell_type": "code",
   "execution_count": 50,
   "id": "84c58575",
   "metadata": {},
   "outputs": [],
   "source": [
    "quest_shark.activity=quest_shark.activity.apply(lambda x:x if x in activities_list else \"Others\")"
   ]
  },
  {
   "cell_type": "code",
   "execution_count": 51,
   "id": "0600d835",
   "metadata": {},
   "outputs": [
    {
     "data": {
      "text/plain": [
       "array(['Swimming', 'Surfing', 'Others', 'Fishing', 'Diving', 'Wading',\n",
       "       'Multimedia', 'Kayaking', 'Bathing', 'Sea Disaster'], dtype=object)"
      ]
     },
     "execution_count": 51,
     "metadata": {},
     "output_type": "execute_result"
    }
   ],
   "source": [
    "activities_list=quest_shark.activity.unique()\n",
    "activities_list"
   ]
  },
  {
   "cell_type": "code",
   "execution_count": 52,
   "id": "e3c9c6ae",
   "metadata": {},
   "outputs": [
    {
     "data": {
      "text/plain": [
       "activity\n",
       "Surfing         1783\n",
       "Others          1473\n",
       "Swimming        1247\n",
       "Fishing         1234\n",
       "Diving           685\n",
       "Wading           208\n",
       "Bathing          190\n",
       "Kayaking          42\n",
       "Sea Disaster      30\n",
       "Multimedia        24\n",
       "Name: count, dtype: int64"
      ]
     },
     "execution_count": 52,
     "metadata": {},
     "output_type": "execute_result"
    }
   ],
   "source": [
    "quest_shark.value_counts(\"activity\")"
   ]
  },
  {
   "cell_type": "code",
   "execution_count": 53,
   "id": "6a28caa9",
   "metadata": {},
   "outputs": [
    {
     "data": {
      "text/plain": [
       "Text(0.5, 1.0, 'Activities List')"
      ]
     },
     "execution_count": 53,
     "metadata": {},
     "output_type": "execute_result"
    },
    {
     "data": {
      "image/png": "[encoded data removed]",
      "text/plain": [
       "<Figure size 640x480 with 1 Axes>"
      ]
     },
     "metadata": {},
     "output_type": "display_data"
    }
   ],
   "source": [
    "activity_graph=quest_shark.value_counts('injury')\n",
    "activity_graph.plot.bar()\n",
    "plt.title(\"Activities List\")"
   ]
  },
  {
   "cell_type": "code",
   "execution_count": 54,
   "id": "91cbc8c7",
   "metadata": {},
   "outputs": [],
   "source": [
    "count_sex_activity = quest_shark.groupby(['sex', 'activity']).size().reset_index(name='count')"
   ]
  },
  {
   "cell_type": "code",
   "execution_count": 98,
   "id": "fc80b3af",
   "metadata": {},
   "outputs": [
    {
     "data": {
      "image/png": "[encoded data removed]",
      "text/plain": [
       "<Figure size 800x600 with 1 Axes>"
      ]
     },
     "metadata": {},
     "output_type": "display_data"
    }
   ],
   "source": [
    "sns.set(rc={'figure.figsize':(8, 6)})\n",
    "sns.barplot(x='activity', y='count', hue='sex', data=count_sex_activity)\n",
    "plt.xticks(rotation=45)\n",
    "plt.show()"
   ]
  },
  {
   "cell_type": "code",
   "execution_count": null,
   "id": "64f35b59",
   "metadata": {
    "scrolled": true
   },
   "outputs": [],
   "source": [
    "list_species=quest_shark.species_.unique()\n",
    "for species_ in list_species:\n",
    "    print(species_)"
   ]
  },
  {
   "cell_type": "code",
   "execution_count": 57,
   "id": "706c4a75",
   "metadata": {},
   "outputs": [],
   "source": [
    "species_mapped={\n",
    "    'Shark involvement prior to death was not confirmed': 'Great shark',\n",
    "    'Invalid': 'Great shark',\n",
    "    'Shark involvement not confirmed': 'Great shark',\n",
    "    'Shark involvement prior to death unconfirmed': 'Great shark',\n",
    "    }\n",
    "\n",
    "quest_shark['species_'].fillna('Unknown shark', inplace=True)\n",
    "quest_shark.loc[quest_shark['species_'].str.contains('hite', case=False, na=False), 'species_'] = 'White shark'\n",
    "quest_shark.loc[quest_shark['species_'].str.contains('tiger', case=False, na=False), 'species_'] = 'Tiger shark'\n",
    "quest_shark.loc[quest_shark['species_'].str.contains('bull', case=False, na=False), 'species_'] = 'Bull shark'\n",
    "quest_shark.loc[quest_shark['species_'].str.contains('lemon', case=False, na=False), 'species_'] = 'Lemon shark'\n",
    "quest_shark.loc[quest_shark['species_'].str.contains('blacktip', case=False, na=False), 'species_'] = 'Blacktip shark'\n",
    "quest_shark.loc[quest_shark['species_'].str.contains('carribe', case=False, na=False), 'species_'] = 'Carribean shark'\n",
    "quest_shark.loc[quest_shark['species_'].str.contains('blue', case=False, na=False), 'species_'] = 'Blue shark'\n",
    "quest_shark.loc[quest_shark['species_'].str.contains('bronze', case=False, na=False), 'species_'] = 'Bronze shark'\n",
    "quest_shark.loc[quest_shark['species_'].str.contains('spinner', case=False, na=False), 'species_'] = 'Spinner shark'\n",
    "quest_shark.loc[quest_shark['species_'].str.contains('nurse', case=False, na=False), 'species_'] = 'Nurse shark'\n",
    "quest_shark.loc[quest_shark['species_'].str.contains('hammer', case=False, na=False), 'species_'] = 'Hammerhead shark'\n",
    "quest_shark.loc[quest_shark['species_'].str.contains('mako', case=False, na=False), 'species_'] = 'Mako shark'\n",
    "quest_shark.loc[quest_shark['species_'].str.contains('brow', case=False, na=False), 'species_'] = 'Brown shark'\n",
    "quest_shark.loc[quest_shark['species_'].str.contains('dusk', case=False, na=False), 'species_'] = 'Dusky shark'\n",
    "quest_shark.loc[quest_shark['species_'].str.contains('ceanic', case=False, na=False), 'species_'] = 'oceanic Whitetip shark'\n",
    "quest_shark.loc[quest_shark['species_'].str.contains('sand', case=False, na=False), 'species_'] = 'Sand shark'\n",
    "quest_shark.loc[quest_shark['species_'].str.contains('whal', case=False, na=False), 'species_'] = 'Whale shark'\n",
    "quest_shark.loc[quest_shark['species_'].str.contains('grey', case=False, na=False), 'species_'] = 'Grey shark'\n",
    "quest_shark.loc[quest_shark['species_'].str.contains(\"1'|1-|1.|2'|2-|2.|3'|3-|3.\", case=False, na=False), 'species_'] = 'S/M sharks'\n",
    "quest_shark.loc[quest_shark['species_'].str.contains(\"4'|4-|4.|5'|5-|5.|6'|6-|6.|7'|7-|7.|8'|8-|8.\", case=False, na=False), 'species_'] = 'Moderate-sized sharks'\n",
    "quest_shark.loc[quest_shark['species_'].str.contains(\"9'|9-|9.|10'|10-|10.|11'|11-|11.|12'|12-|12.|13'|13-|13.\", case=False, na=False), 'species_'] = 'Giant sharks'\n",
    "\n",
    "\n",
    "list_species=['White shark','Tiger shark','Bull shark','Lemon shark','Blacktip shark','Carribean shark','Moderate-sized sharks','Dusky shark','Blue shark','Brown shark','Bronze shark',\n",
    "             'Nurse shark','Spinner shark','Hammerhead shark','Mako shark','Giant sharks','Sand shark','Grey shark','S/M sharks','Whale shark','oceanic Whitetip shark']\n",
    "\n",
    "\n",
    "\n"
   ]
  },
  {
   "cell_type": "code",
   "execution_count": 58,
   "id": "622f85d8",
   "metadata": {},
   "outputs": [
    {
     "name": "stdout",
     "output_type": "stream",
     "text": [
      "0         Tiger shark\n",
      "1         Tiger shark\n",
      "2          S/M sharks\n",
      "3         Tiger shark\n",
      "4          Bull shark\n",
      "            ...      \n",
      "6939    Unknown shark\n",
      "6940    Unknown shark\n",
      "6941    Unknown shark\n",
      "6942    Unknown shark\n",
      "6943    Unknown shark\n",
      "Name: species_, Length: 6916, dtype: object\n"
     ]
    }
   ],
   "source": [
    "quest_shark['species_'].replace({**{species: species for species in list_species}, **species_mapped}, inplace=True)\n",
    "\n",
    "for idx, value in quest_shark['species_'].items():\n",
    " \n",
    "    if value not in list_species and value not in species_mapped.values():\n",
    "       \n",
    "        quest_shark.at[idx, 'species_'] = 'Unknown shark'\n",
    "\n",
    "\n",
    "print(quest_shark['species_'])"
   ]
  },
  {
   "cell_type": "code",
   "execution_count": 59,
   "id": "6f38bf82",
   "metadata": {
    "scrolled": true
   },
   "outputs": [
    {
     "name": "stdout",
     "output_type": "stream",
     "text": [
      "species_\n",
      "Unknown shark            3549\n",
      "S/M sharks                791\n",
      "White shark               740\n",
      "Great shark               366\n",
      "Tiger shark               330\n",
      "Moderate-sized sharks     277\n",
      "Bull shark                215\n",
      "Blacktip shark            132\n",
      "Nurse shark               112\n",
      "Bronze shark               74\n",
      "Blue shark                 61\n",
      "Mako shark                 58\n",
      "Hammerhead shark           49\n",
      "Lemon shark                44\n",
      "Grey shark                 28\n",
      "Sand shark                 26\n",
      "Spinner shark              24\n",
      "Dusky shark                13\n",
      "Giant sharks               11\n",
      "Whale shark                10\n",
      "Brown shark                 6\n",
      "Name: count, dtype: int64\n"
     ]
    }
   ],
   "source": [
    "print(quest_shark.value_counts('species_'))"
   ]
  },
  {
   "cell_type": "code",
   "execution_count": 60,
   "id": "3874ebf7",
   "metadata": {},
   "outputs": [
    {
     "data": {
      "text/plain": [
       "<Axes: ylabel='count'>"
      ]
     },
     "execution_count": 60,
     "metadata": {},
     "output_type": "execute_result"
    },
    {
     "data": {
      "image/png": "[encoded data removed]",
      "text/plain": [
       "<Figure size 640x480 with 1 Axes>"
      ]
     },
     "metadata": {},
     "output_type": "display_data"
    }
   ],
   "source": [
    "sharks=quest_shark.species_.value_counts()\n",
    "\n",
    "sharks.plot.pie(autopct='%.1f%%')"
   ]
  },
  {
   "cell_type": "code",
   "execution_count": 61,
   "id": "306bd0b1",
   "metadata": {
    "scrolled": true
   },
   "outputs": [
    {
     "data": {
      "text/plain": [
       "type\n",
       "Unprovoked             5091\n",
       "Provoked                634\n",
       "Invalid                 550\n",
       "Watercraft              353\n",
       "Sea Disaster            235\n",
       "Questionable             22\n",
       "Boat                      7\n",
       " Provoked                 2\n",
       "?                         1\n",
       "Unconfirmed               1\n",
       "Under investigation       1\n",
       "Unverified                1\n",
       "Name: count, dtype: int64"
      ]
     },
     "execution_count": 61,
     "metadata": {},
     "output_type": "execute_result"
    }
   ],
   "source": [
    "quest_shark.value_counts('type')"
   ]
  },
  {
   "cell_type": "code",
   "execution_count": 62,
   "id": "d3498d7f",
   "metadata": {},
   "outputs": [],
   "source": [
    "quest_shark['type'] = quest_shark['type'].replace([' Provoked', 'Boat'], 'provoked')\n",
    "quest_shark['type'] = quest_shark['type'].replace(['?', 'Unconfirmed','Under investigation','Unverified'], 'Questionable')\n",
    "quest_shark['type'].fillna('Invalid', inplace=True)"
   ]
  },
  {
   "cell_type": "code",
   "execution_count": 63,
   "id": "47a13a6a",
   "metadata": {},
   "outputs": [],
   "source": [
    "type_mapped={' Provoked':'Provoked',\n",
    "            'Boat':'Provoked',\n",
    "             'provoked':'Provoked',\n",
    "            '?':'Questionable',\n",
    "            'Unconfirmed':'Questionable',\n",
    "            'Under Investigation':'Questionable',\n",
    "            'Unverified':'Questionable'}\n",
    "quest_shark['type'].replace(type_mapped, inplace= True)\n",
    "quest_shark['type'].fillna('Invalid', inplace=True)"
   ]
  },
  {
   "cell_type": "code",
   "execution_count": 64,
   "id": "f0cff9d7",
   "metadata": {
    "scrolled": true
   },
   "outputs": [
    {
     "data": {
      "text/plain": [
       "type\n",
       "Unprovoked      5091\n",
       "Provoked         643\n",
       "Invalid          568\n",
       "Watercraft       353\n",
       "Sea Disaster     235\n",
       "Questionable      26\n",
       "Name: count, dtype: int64"
      ]
     },
     "execution_count": 64,
     "metadata": {},
     "output_type": "execute_result"
    }
   ],
   "source": [
    "quest_shark.value_counts('type')"
   ]
  },
  {
   "cell_type": "code",
   "execution_count": 65,
   "id": "31d7868c",
   "metadata": {},
   "outputs": [
    {
     "data": {
      "text/plain": [
       "Text(0.5, 1.0, 'type List')"
      ]
     },
     "execution_count": 65,
     "metadata": {},
     "output_type": "execute_result"
    },
    {
     "data": {
      "image/png": "[encoded data removed]",
      "text/plain": [
       "<Figure size 640x480 with 1 Axes>"
      ]
     },
     "metadata": {},
     "output_type": "display_data"
    }
   ],
   "source": [
    "type_graph=quest_shark.value_counts('type')\n",
    "type_graph.plot.bar()\n",
    "plt.title(\"type List\")"
   ]
  },
  {
   "cell_type": "markdown",
   "id": "6d7cb172",
   "metadata": {},
   "source": [
    "## Creating a new column:\n",
    "\n",
    "We called this new column \"sea\" , and it contains the different sea's in the world surrounding the countries when the most of attacks happened.\n"
   ]
  },
  {
   "cell_type": "code",
   "execution_count": 66,
   "id": "87f578cc",
   "metadata": {},
   "outputs": [],
   "source": [
    "conditions = [\n",
    "    quest_shark['country'].str.contains('USA|mexico', case=False, na=False),\n",
    "    quest_shark['country'].str.contains('argentin|Uruguay|Antarctica', case=False, na=False),\n",
    "    quest_shark['country'].str.contains('Sweden|denmark|germany|Lithuania|Poland|Latvia|estonia', case=False, na=False),\n",
    "    quest_shark['country'].str.contains('cuba|jamaica|Dominican rep|Venezuela|belize|colombia', case=False, na=False),\n",
    "    quest_shark['country'].str.contains('New South Wales|Queensland|Victoria|Western Australia|South Australia|south africa', case=False, na=False),\n",
    "    quest_shark['country'].str.contains('New zealand', case=False, na=False),\n",
    "    quest_shark['country'].str.contains('bahamas', case=False, na=False),\n",
    "    quest_shark['country'].str.contains('Egypt|red sea', case=False, na=False),\n",
    "    quest_shark['country'].str.contains('australia|coral sea', case=False, na=False),\n",
    "    quest_shark['country'].str.contains('Spain|France|Monaco|Italy|Slovenia|Croatia|Bosnia and Herzegovina|Montenegro|Albania|Greece|Turkey|Cyprus|Syria|Lebanon|Libya|Tunisia|Algeria|Morocco', case=False, na=False)\n",
    "]\n",
    "\n",
    "values = [\n",
    "    'Gulf of Mexico',\n",
    "    'Argentine Sea',\n",
    "    'Baltic Sea',\n",
    "    'Caribbean Sea',\n",
    "    'Indian Ocean',\n",
    "    'Pacific Ocean',\n",
    "    'Atlantic Ocean',\n",
    "    'Red Sea',\n",
    "    'Coral sea',\n",
    "    'Mediterranean'\n",
    "]"
   ]
  },
  {
   "cell_type": "code",
   "execution_count": 67,
   "id": "52eb731b",
   "metadata": {},
   "outputs": [],
   "source": [
    "quest_shark['sea'] = np.select(conditions, values, default='Others')"
   ]
  },
  {
   "cell_type": "code",
   "execution_count": 68,
   "id": "f5568b82",
   "metadata": {},
   "outputs": [
    {
     "data": {
      "text/plain": [
       "sea\n",
       "Gulf of Mexico    2642\n",
       "Others            1529\n",
       "Coral sea         1480\n",
       "Indian Ocean       598\n",
       "Mediterranean      221\n",
       "Pacific Ocean      145\n",
       "Atlantic Ocean     135\n",
       "Caribbean Sea      104\n",
       "Red Sea             55\n",
       "Argentine Sea        6\n",
       "Baltic Sea           1\n",
       "Name: count, dtype: int64"
      ]
     },
     "execution_count": 68,
     "metadata": {},
     "output_type": "execute_result"
    }
   ],
   "source": [
    "quest_shark['sea'].value_counts()"
   ]
  },
  {
   "cell_type": "code",
   "execution_count": 69,
   "id": "6e32fb99",
   "metadata": {},
   "outputs": [],
   "source": [
    "count_data = quest_shark.groupby(['species_', 'sea']).size().reset_index(name='count')"
   ]
  },
  {
   "cell_type": "code",
   "execution_count": 99,
   "id": "b5660c74",
   "metadata": {},
   "outputs": [
    {
     "data": {
      "image/png": "[encoded data removed]",
      "text/plain": [
       "<Figure size 1000x800 with 1 Axes>"
      ]
     },
     "metadata": {},
     "output_type": "display_data"
    }
   ],
   "source": [
    "sns.set(rc={'figure.figsize':(10, 8)})\n",
    "sns.barplot(x='species_', y='count', hue='sea', data=count_data)\n",
    "plt.xticks(rotation=90) \n",
    "plt.show()"
   ]
  },
  {
   "cell_type": "markdown",
   "id": "7f9b41aa",
   "metadata": {},
   "source": [
    "### Aggregating our data:"
   ]
  },
  {
   "cell_type": "code",
   "execution_count": 71,
   "id": "61497255",
   "metadata": {
    "scrolled": false
   },
   "outputs": [
    {
     "data": {
      "text/html": [
       "<div>\n",
       "<style scoped>\n",
       "    .dataframe tbody tr th:only-of-type {\n",
       "        vertical-align: middle;\n",
       "    }\n",
       "\n",
       "    .dataframe tbody tr th {\n",
       "        vertical-align: top;\n",
       "    }\n",
       "\n",
       "    .dataframe thead th {\n",
       "        text-align: right;\n",
       "    }\n",
       "</style>\n",
       "<table border=\"1\" class=\"dataframe\">\n",
       "  <thead>\n",
       "    <tr style=\"text-align: right;\">\n",
       "      <th></th>\n",
       "      <th></th>\n",
       "      <th>activity</th>\n",
       "      <th>type</th>\n",
       "    </tr>\n",
       "    <tr>\n",
       "      <th>sex</th>\n",
       "      <th>year</th>\n",
       "      <th></th>\n",
       "      <th></th>\n",
       "    </tr>\n",
       "  </thead>\n",
       "  <tbody>\n",
       "    <tr>\n",
       "      <th rowspan=\"5\" valign=\"top\">F</th>\n",
       "      <th>0</th>\n",
       "      <td>SwimmingOthersDivingOthersOthersDivingOthersDi...</td>\n",
       "      <td>UnprovokedUnprovokedUnprovokedUnprovokedUnprov...</td>\n",
       "    </tr>\n",
       "    <tr>\n",
       "      <th>1791</th>\n",
       "      <td>Others</td>\n",
       "      <td>Unprovoked</td>\n",
       "    </tr>\n",
       "    <tr>\n",
       "      <th>1800</th>\n",
       "      <td>Others</td>\n",
       "      <td>Unprovoked</td>\n",
       "    </tr>\n",
       "    <tr>\n",
       "      <th>1832</th>\n",
       "      <td>Fishing</td>\n",
       "      <td>Unprovoked</td>\n",
       "    </tr>\n",
       "    <tr>\n",
       "      <th>1834</th>\n",
       "      <td>Swimming</td>\n",
       "      <td>Unprovoked</td>\n",
       "    </tr>\n",
       "    <tr>\n",
       "      <th>...</th>\n",
       "      <th>...</th>\n",
       "      <td>...</td>\n",
       "      <td>...</td>\n",
       "    </tr>\n",
       "    <tr>\n",
       "      <th rowspan=\"5\" valign=\"top\">M</th>\n",
       "      <th>2022</th>\n",
       "      <td>DivingSwimmingSwimmingDivingSurfingFishingSurf...</td>\n",
       "      <td>ProvokedUnprovokedUnprovokedUnprovokedUnprovok...</td>\n",
       "    </tr>\n",
       "    <tr>\n",
       "      <th>2023</th>\n",
       "      <td>SurfingDivingSurfingSurfingSurfingSwimmingDivi...</td>\n",
       "      <td>UnprovokedUnprovokedUnprovokedUnprovokedUnprov...</td>\n",
       "    </tr>\n",
       "    <tr>\n",
       "      <th>2024</th>\n",
       "      <td>SurfingFishingFishingSwimmingSurfingFishing</td>\n",
       "      <td>UnprovokedUnprovokedProvokedUnprovokedUnprovok...</td>\n",
       "    </tr>\n",
       "    <tr>\n",
       "      <th>5</th>\n",
       "      <td>Others</td>\n",
       "      <td>Unprovoked</td>\n",
       "    </tr>\n",
       "    <tr>\n",
       "      <th>77</th>\n",
       "      <td>Diving</td>\n",
       "      <td>Unprovoked</td>\n",
       "    </tr>\n",
       "  </tbody>\n",
       "</table>\n",
       "<p>505 rows × 2 columns</p>\n",
       "</div>"
      ],
      "text/plain": [
       "                                                   activity  \\\n",
       "sex year                                                      \n",
       "F   0     SwimmingOthersDivingOthersOthersDivingOthersDi...   \n",
       "    1791                                             Others   \n",
       "    1800                                             Others   \n",
       "    1832                                            Fishing   \n",
       "    1834                                           Swimming   \n",
       "...                                                     ...   \n",
       "M   2022  DivingSwimmingSwimmingDivingSurfingFishingSurf...   \n",
       "    2023  SurfingDivingSurfingSurfingSurfingSwimmingDivi...   \n",
       "    2024        SurfingFishingFishingSwimmingSurfingFishing   \n",
       "    5                                                Others   \n",
       "    77                                               Diving   \n",
       "\n",
       "                                                       type  \n",
       "sex year                                                     \n",
       "F   0     UnprovokedUnprovokedUnprovokedUnprovokedUnprov...  \n",
       "    1791                                         Unprovoked  \n",
       "    1800                                         Unprovoked  \n",
       "    1832                                         Unprovoked  \n",
       "    1834                                         Unprovoked  \n",
       "...                                                     ...  \n",
       "M   2022  ProvokedUnprovokedUnprovokedUnprovokedUnprovok...  \n",
       "    2023  UnprovokedUnprovokedUnprovokedUnprovokedUnprov...  \n",
       "    2024  UnprovokedUnprovokedProvokedUnprovokedUnprovok...  \n",
       "    5                                            Unprovoked  \n",
       "    77                                           Unprovoked  \n",
       "\n",
       "[505 rows x 2 columns]"
      ]
     },
     "execution_count": 71,
     "metadata": {},
     "output_type": "execute_result"
    }
   ],
   "source": [
    "quest_shark_attacks=quest_shark.pivot_table(index=['sex','year'] ,values=['type','activity'],aggfunc='sum')\n",
    "quest_shark_attacks"
   ]
  },
  {
   "cell_type": "code",
   "execution_count": 72,
   "id": "ac3c8f7d",
   "metadata": {},
   "outputs": [
    {
     "data": {
      "text/html": [
       "<div>\n",
       "<style scoped>\n",
       "    .dataframe tbody tr th:only-of-type {\n",
       "        vertical-align: middle;\n",
       "    }\n",
       "\n",
       "    .dataframe tbody tr th {\n",
       "        vertical-align: top;\n",
       "    }\n",
       "\n",
       "    .dataframe thead th {\n",
       "        text-align: right;\n",
       "    }\n",
       "</style>\n",
       "<table border=\"1\" class=\"dataframe\">\n",
       "  <thead>\n",
       "    <tr style=\"text-align: right;\">\n",
       "      <th></th>\n",
       "      <th></th>\n",
       "      <th>type</th>\n",
       "    </tr>\n",
       "    <tr>\n",
       "      <th>sex</th>\n",
       "      <th>activity</th>\n",
       "      <th></th>\n",
       "    </tr>\n",
       "  </thead>\n",
       "  <tbody>\n",
       "    <tr>\n",
       "      <th rowspan=\"10\" valign=\"top\">F</th>\n",
       "      <th>Bathing</th>\n",
       "      <td>21</td>\n",
       "    </tr>\n",
       "    <tr>\n",
       "      <th>Diving</th>\n",
       "      <td>93</td>\n",
       "    </tr>\n",
       "    <tr>\n",
       "      <th>Fishing</th>\n",
       "      <td>24</td>\n",
       "    </tr>\n",
       "    <tr>\n",
       "      <th>Kayaking</th>\n",
       "      <td>6</td>\n",
       "    </tr>\n",
       "    <tr>\n",
       "      <th>Multimedia</th>\n",
       "      <td>2</td>\n",
       "    </tr>\n",
       "    <tr>\n",
       "      <th>Others</th>\n",
       "      <td>172</td>\n",
       "    </tr>\n",
       "    <tr>\n",
       "      <th>Sea Disaster</th>\n",
       "      <td>2</td>\n",
       "    </tr>\n",
       "    <tr>\n",
       "      <th>Surfing</th>\n",
       "      <td>149</td>\n",
       "    </tr>\n",
       "    <tr>\n",
       "      <th>Swimming</th>\n",
       "      <td>234</td>\n",
       "    </tr>\n",
       "    <tr>\n",
       "      <th>Wading</th>\n",
       "      <td>76</td>\n",
       "    </tr>\n",
       "    <tr>\n",
       "      <th rowspan=\"10\" valign=\"top\">F/M</th>\n",
       "      <th>Bathing</th>\n",
       "      <td>7</td>\n",
       "    </tr>\n",
       "    <tr>\n",
       "      <th>Diving</th>\n",
       "      <td>26</td>\n",
       "    </tr>\n",
       "    <tr>\n",
       "      <th>Fishing</th>\n",
       "      <td>171</td>\n",
       "    </tr>\n",
       "    <tr>\n",
       "      <th>Kayaking</th>\n",
       "      <td>1</td>\n",
       "    </tr>\n",
       "    <tr>\n",
       "      <th>Multimedia</th>\n",
       "      <td>1</td>\n",
       "    </tr>\n",
       "    <tr>\n",
       "      <th>Others</th>\n",
       "      <td>274</td>\n",
       "    </tr>\n",
       "    <tr>\n",
       "      <th>Sea Disaster</th>\n",
       "      <td>9</td>\n",
       "    </tr>\n",
       "    <tr>\n",
       "      <th>Surfing</th>\n",
       "      <td>42</td>\n",
       "    </tr>\n",
       "    <tr>\n",
       "      <th>Swimming</th>\n",
       "      <td>27</td>\n",
       "    </tr>\n",
       "    <tr>\n",
       "      <th>Wading</th>\n",
       "      <td>3</td>\n",
       "    </tr>\n",
       "    <tr>\n",
       "      <th rowspan=\"10\" valign=\"top\">M</th>\n",
       "      <th>Bathing</th>\n",
       "      <td>162</td>\n",
       "    </tr>\n",
       "    <tr>\n",
       "      <th>Diving</th>\n",
       "      <td>566</td>\n",
       "    </tr>\n",
       "    <tr>\n",
       "      <th>Fishing</th>\n",
       "      <td>1039</td>\n",
       "    </tr>\n",
       "    <tr>\n",
       "      <th>Kayaking</th>\n",
       "      <td>35</td>\n",
       "    </tr>\n",
       "    <tr>\n",
       "      <th>Multimedia</th>\n",
       "      <td>21</td>\n",
       "    </tr>\n",
       "    <tr>\n",
       "      <th>Others</th>\n",
       "      <td>1027</td>\n",
       "    </tr>\n",
       "    <tr>\n",
       "      <th>Sea Disaster</th>\n",
       "      <td>19</td>\n",
       "    </tr>\n",
       "    <tr>\n",
       "      <th>Surfing</th>\n",
       "      <td>1592</td>\n",
       "    </tr>\n",
       "    <tr>\n",
       "      <th>Swimming</th>\n",
       "      <td>986</td>\n",
       "    </tr>\n",
       "    <tr>\n",
       "      <th>Wading</th>\n",
       "      <td>129</td>\n",
       "    </tr>\n",
       "  </tbody>\n",
       "</table>\n",
       "</div>"
      ],
      "text/plain": [
       "                  type\n",
       "sex activity          \n",
       "F   Bathing         21\n",
       "    Diving          93\n",
       "    Fishing         24\n",
       "    Kayaking         6\n",
       "    Multimedia       2\n",
       "    Others         172\n",
       "    Sea Disaster     2\n",
       "    Surfing        149\n",
       "    Swimming       234\n",
       "    Wading          76\n",
       "F/M Bathing          7\n",
       "    Diving          26\n",
       "    Fishing        171\n",
       "    Kayaking         1\n",
       "    Multimedia       1\n",
       "    Others         274\n",
       "    Sea Disaster     9\n",
       "    Surfing         42\n",
       "    Swimming        27\n",
       "    Wading           3\n",
       "M   Bathing        162\n",
       "    Diving         566\n",
       "    Fishing       1039\n",
       "    Kayaking        35\n",
       "    Multimedia      21\n",
       "    Others        1027\n",
       "    Sea Disaster    19\n",
       "    Surfing       1592\n",
       "    Swimming       986\n",
       "    Wading         129"
      ]
     },
     "execution_count": 72,
     "metadata": {},
     "output_type": "execute_result"
    }
   ],
   "source": [
    "count_attack=quest_shark.pivot_table(index=['sex','activity'] ,values=['type'],aggfunc='count')\n",
    "count_attack"
   ]
  },
  {
   "cell_type": "code",
   "execution_count": 73,
   "id": "597c80a9",
   "metadata": {},
   "outputs": [],
   "source": [
    "quest_shark['location'] = quest_shark['location'].str.replace(\" \", \"/\")"
   ]
  },
  {
   "cell_type": "code",
   "execution_count": 74,
   "id": "9542ea4f",
   "metadata": {},
   "outputs": [],
   "source": [
    "quest_shark['sea'] = quest_shark['sea'].str.replace(\" \", \"/\")"
   ]
  },
  {
   "cell_type": "code",
   "execution_count": 75,
   "id": "361790d1",
   "metadata": {
    "scrolled": true
   },
   "outputs": [
    {
     "data": {
      "text/html": [
       "<div>\n",
       "<style scoped>\n",
       "    .dataframe tbody tr th:only-of-type {\n",
       "        vertical-align: middle;\n",
       "    }\n",
       "\n",
       "    .dataframe tbody tr th {\n",
       "        vertical-align: top;\n",
       "    }\n",
       "\n",
       "    .dataframe thead th {\n",
       "        text-align: right;\n",
       "    }\n",
       "</style>\n",
       "<table border=\"1\" class=\"dataframe\">\n",
       "  <thead>\n",
       "    <tr style=\"text-align: right;\">\n",
       "      <th></th>\n",
       "      <th>location</th>\n",
       "      <th>sea</th>\n",
       "    </tr>\n",
       "    <tr>\n",
       "      <th>species_</th>\n",
       "      <th></th>\n",
       "      <th></th>\n",
       "    </tr>\n",
       "  </thead>\n",
       "  <tbody>\n",
       "    <tr>\n",
       "      <th>Blacktip shark</th>\n",
       "      <td>Anaehoomalu/BayProtea/BanksMyrtle/Beach,/Horry...</td>\n",
       "      <td>OthersGulf/of/MexicoIndian/OceanGulf/of/Mexico...</td>\n",
       "    </tr>\n",
       "    <tr>\n",
       "      <th>Blue shark</th>\n",
       "      <td>Rabdells/Beach/9/nm/off/Vila/do/Conde/Penzance...</td>\n",
       "      <td>MediterraneanOthersOthersOthersMediterraneanMe...</td>\n",
       "    </tr>\n",
       "    <tr>\n",
       "      <th>Bronze shark</th>\n",
       "      <td>Alexander/Bay,/EsperanceLucy's/BeachAvocaYalli...</td>\n",
       "      <td>Coral/seaCoral/seaCoral/seaCoral/seaCoral/seaC...</td>\n",
       "    </tr>\n",
       "    <tr>\n",
       "      <th>Brown shark</th>\n",
       "      <td>Caves/BeachCocoa/Beach,/Brevard/CountyKufulu/P...</td>\n",
       "      <td>Coral/seaGulf/of/MexicoOthersOthersOthersOthers</td>\n",
       "    </tr>\n",
       "    <tr>\n",
       "      <th>Bull shark</th>\n",
       "      <td>Vaitarna/River,/Palghar/DistrictElizabeth/Bay,...</td>\n",
       "      <td>OthersCoral/seaCoral/seaGulf/of/MexicoCaribbea...</td>\n",
       "    </tr>\n",
       "    <tr>\n",
       "      <th>Dusky shark</th>\n",
       "      <td>Windang,///////Lake/IllawaraVirginia/BeachPont...</td>\n",
       "      <td>Coral/seaGulf/of/MexicoOthersIndian/OceanIndia...</td>\n",
       "    </tr>\n",
       "    <tr>\n",
       "      <th>Giant sharks</th>\n",
       "      <td>Keaton/Beach,/WeipaLa'aloa/Beach/ParkRamsgateN...</td>\n",
       "      <td>Gulf/of/MexicoCoral/seaGulf/of/MexicoIndian/Oc...</td>\n",
       "    </tr>\n",
       "    <tr>\n",
       "      <th>Great shark</th>\n",
       "      <td>Cape/Canaveral,/Brevard/CountyJones/Beach,/Nas...</td>\n",
       "      <td>Gulf/of/MexicoGulf/of/MexicoGulf/of/MexicoGulf...</td>\n",
       "    </tr>\n",
       "    <tr>\n",
       "      <th>Grey shark</th>\n",
       "      <td>Matavai/Bay,/Arue,/Papeteereef/40km/east/Vanua...</td>\n",
       "      <td>OthersOthersCoral/seaCoral/seaCoral/seaOthersO...</td>\n",
       "    </tr>\n",
       "    <tr>\n",
       "      <th>Hammerhead shark</th>\n",
       "      <td>Off/Leffingwell/Landing,/San/Luis/Obispo/Count...</td>\n",
       "      <td>Gulf/of/MexicoGulf/of/MexicoGulf/of/MexicoGulf...</td>\n",
       "    </tr>\n",
       "    <tr>\n",
       "      <th>Lemon shark</th>\n",
       "      <td>Peak/IslandContent/Keys,/Monroe/CountyVaranus/...</td>\n",
       "      <td>Coral/seaOthersGulf/of/MexicoCoral/seaGulf/of/...</td>\n",
       "    </tr>\n",
       "    <tr>\n",
       "      <th>Mako shark</th>\n",
       "      <td>70/miles/off/PensacolaOuter/BanksMatauri/BayAi...</td>\n",
       "      <td>Gulf/of/MexicoGulf/of/MexicoPacific/OceanRed/S...</td>\n",
       "    </tr>\n",
       "    <tr>\n",
       "      <th>Moderate-sized sharks</th>\n",
       "      <td>Sea/Pines/Beach,/Hilton/Head/Island,/Beaufort/...</td>\n",
       "      <td>Gulf/of/MexicoGulf/of/MexicoCoral/seaGulf/of/M...</td>\n",
       "    </tr>\n",
       "    <tr>\n",
       "      <th>Nurse shark</th>\n",
       "      <td>San/Pedro/,/Ambergris/CayeKey/Largo,/Monroe/Co...</td>\n",
       "      <td>Caribbean/SeaOthersGulf/of/MexicoGulf/of/Mexic...</td>\n",
       "    </tr>\n",
       "    <tr>\n",
       "      <th>S/M sharks</th>\n",
       "      <td>Rainbows,/OahuPaia,/MauiFire/Island/Pines,/Suf...</td>\n",
       "      <td>Gulf/of/MexicoGulf/of/MexicoGulf/of/MexicoCora...</td>\n",
       "    </tr>\n",
       "    <tr>\n",
       "      <th>Sand shark</th>\n",
       "      <td>Cape/Henlopen/State/Park,/Sussex/CountyMiamiNo...</td>\n",
       "      <td>Gulf/of/MexicoGulf/of/MexicoGulf/of/MexicoGulf...</td>\n",
       "    </tr>\n",
       "    <tr>\n",
       "      <th>Spinner shark</th>\n",
       "      <td>Bathtub/Beach,/Martin/CountyStuart/Beach,/Mart...</td>\n",
       "      <td>Gulf/of/MexicoGulf/of/MexicoGulf/of/MexicoGulf...</td>\n",
       "    </tr>\n",
       "    <tr>\n",
       "      <th>Tiger shark</th>\n",
       "      <td>Bargara/BeachOld/Man's,/WaikikiSandlnd/Island,...</td>\n",
       "      <td>Coral/seaGulf/of/MexicoCoral/seaGulf/of/Mexico...</td>\n",
       "    </tr>\n",
       "    <tr>\n",
       "      <th>Unknown shark</th>\n",
       "      <td>Paradise/Island/ResortPapiesfonteinBaby/Beach,...</td>\n",
       "      <td>Atlantic/OceanIndian/OceanGulf/of/MexicoCoral/...</td>\n",
       "    </tr>\n",
       "    <tr>\n",
       "      <th>Whale shark</th>\n",
       "      <td>Wedge/IslandSunshine/BeachRobberg/Point15/km/n...</td>\n",
       "      <td>Coral/seaCoral/seaIndian/OceanCoral/seaOthersC...</td>\n",
       "    </tr>\n",
       "    <tr>\n",
       "      <th>White shark</th>\n",
       "      <td>Walkers/Beach,/EllistonTojahui/Beach,/Yavaros,...</td>\n",
       "      <td>Coral/seaGulf/of/MexicoCoral/seaPacific/OceanR...</td>\n",
       "    </tr>\n",
       "  </tbody>\n",
       "</table>\n",
       "</div>"
      ],
      "text/plain": [
       "                                                                location  \\\n",
       "species_                                                                   \n",
       "Blacktip shark         Anaehoomalu/BayProtea/BanksMyrtle/Beach,/Horry...   \n",
       "Blue shark             Rabdells/Beach/9/nm/off/Vila/do/Conde/Penzance...   \n",
       "Bronze shark           Alexander/Bay,/EsperanceLucy's/BeachAvocaYalli...   \n",
       "Brown shark            Caves/BeachCocoa/Beach,/Brevard/CountyKufulu/P...   \n",
       "Bull shark             Vaitarna/River,/Palghar/DistrictElizabeth/Bay,...   \n",
       "Dusky shark            Windang,///////Lake/IllawaraVirginia/BeachPont...   \n",
       "Giant sharks           Keaton/Beach,/WeipaLa'aloa/Beach/ParkRamsgateN...   \n",
       "Great shark            Cape/Canaveral,/Brevard/CountyJones/Beach,/Nas...   \n",
       "Grey shark             Matavai/Bay,/Arue,/Papeteereef/40km/east/Vanua...   \n",
       "Hammerhead shark       Off/Leffingwell/Landing,/San/Luis/Obispo/Count...   \n",
       "Lemon shark            Peak/IslandContent/Keys,/Monroe/CountyVaranus/...   \n",
       "Mako shark             70/miles/off/PensacolaOuter/BanksMatauri/BayAi...   \n",
       "Moderate-sized sharks  Sea/Pines/Beach,/Hilton/Head/Island,/Beaufort/...   \n",
       "Nurse shark            San/Pedro/,/Ambergris/CayeKey/Largo,/Monroe/Co...   \n",
       "S/M sharks             Rainbows,/OahuPaia,/MauiFire/Island/Pines,/Suf...   \n",
       "Sand shark             Cape/Henlopen/State/Park,/Sussex/CountyMiamiNo...   \n",
       "Spinner shark          Bathtub/Beach,/Martin/CountyStuart/Beach,/Mart...   \n",
       "Tiger shark            Bargara/BeachOld/Man's,/WaikikiSandlnd/Island,...   \n",
       "Unknown shark          Paradise/Island/ResortPapiesfonteinBaby/Beach,...   \n",
       "Whale shark            Wedge/IslandSunshine/BeachRobberg/Point15/km/n...   \n",
       "White shark            Walkers/Beach,/EllistonTojahui/Beach,/Yavaros,...   \n",
       "\n",
       "                                                                     sea  \n",
       "species_                                                                  \n",
       "Blacktip shark         OthersGulf/of/MexicoIndian/OceanGulf/of/Mexico...  \n",
       "Blue shark             MediterraneanOthersOthersOthersMediterraneanMe...  \n",
       "Bronze shark           Coral/seaCoral/seaCoral/seaCoral/seaCoral/seaC...  \n",
       "Brown shark              Coral/seaGulf/of/MexicoOthersOthersOthersOthers  \n",
       "Bull shark             OthersCoral/seaCoral/seaGulf/of/MexicoCaribbea...  \n",
       "Dusky shark            Coral/seaGulf/of/MexicoOthersIndian/OceanIndia...  \n",
       "Giant sharks           Gulf/of/MexicoCoral/seaGulf/of/MexicoIndian/Oc...  \n",
       "Great shark            Gulf/of/MexicoGulf/of/MexicoGulf/of/MexicoGulf...  \n",
       "Grey shark             OthersOthersCoral/seaCoral/seaCoral/seaOthersO...  \n",
       "Hammerhead shark       Gulf/of/MexicoGulf/of/MexicoGulf/of/MexicoGulf...  \n",
       "Lemon shark            Coral/seaOthersGulf/of/MexicoCoral/seaGulf/of/...  \n",
       "Mako shark             Gulf/of/MexicoGulf/of/MexicoPacific/OceanRed/S...  \n",
       "Moderate-sized sharks  Gulf/of/MexicoGulf/of/MexicoCoral/seaGulf/of/M...  \n",
       "Nurse shark            Caribbean/SeaOthersGulf/of/MexicoGulf/of/Mexic...  \n",
       "S/M sharks             Gulf/of/MexicoGulf/of/MexicoGulf/of/MexicoCora...  \n",
       "Sand shark             Gulf/of/MexicoGulf/of/MexicoGulf/of/MexicoGulf...  \n",
       "Spinner shark          Gulf/of/MexicoGulf/of/MexicoGulf/of/MexicoGulf...  \n",
       "Tiger shark            Coral/seaGulf/of/MexicoCoral/seaGulf/of/Mexico...  \n",
       "Unknown shark          Atlantic/OceanIndian/OceanGulf/of/MexicoCoral/...  \n",
       "Whale shark            Coral/seaCoral/seaIndian/OceanCoral/seaOthersC...  \n",
       "White shark            Coral/seaGulf/of/MexicoCoral/seaPacific/OceanR...  "
      ]
     },
     "execution_count": 75,
     "metadata": {},
     "output_type": "execute_result"
    }
   ],
   "source": [
    "species_in_sea=quest_shark.pivot_table(index='species_',values=['sea','location'],aggfunc='sum')\n",
    "species_in_sea"
   ]
  },
  {
   "cell_type": "markdown",
   "id": "8fab6007",
   "metadata": {},
   "source": [
    "### Questionnaire:\n",
    "\n",
    "This is a kind of questionnaire is for tourists that are planning for there holidays.\n",
    "\n",
    "They will need to type the country and city that are planning to visit and they will get an answer of how many sharks attacks happened in that city and how many shark attacks happened in the whole country. \n"
   ]
  },
  {
   "cell_type": "code",
   "execution_count": 76,
   "id": "9a62c856",
   "metadata": {
    "scrolled": false
   },
   "outputs": [],
   "source": [
    "#your_country=input(\"Which country would you like to travel to? \")"
   ]
  },
  {
   "cell_type": "code",
   "execution_count": 77,
   "id": "60a8114e",
   "metadata": {},
   "outputs": [],
   "source": [
    "#your_state=input(f\"Which state in {your_country} would you like to travel to? \")"
   ]
  },
  {
   "cell_type": "code",
   "execution_count": 78,
   "id": "6de57018",
   "metadata": {},
   "outputs": [],
   "source": [
    "#len(quest_shark.country)"
   ]
  },
  {
   "cell_type": "code",
   "execution_count": 79,
   "id": "1f260b63",
   "metadata": {},
   "outputs": [],
   "source": [
    "#len(quest_shark.state)"
   ]
  },
  {
   "cell_type": "code",
   "execution_count": 80,
   "id": "215fc86c",
   "metadata": {},
   "outputs": [],
   "source": [
    "#quest_shark.head()"
   ]
  },
  {
   "cell_type": "code",
   "execution_count": 81,
   "id": "cdf51dd7",
   "metadata": {},
   "outputs": [],
   "source": [
    "#count_country=0\n",
    "#quest_shark.country=quest_shark.country.str.lower()\n",
    "#for i in range(len(quest_shark.country)):\n",
    "#    if quest_shark.iloc[i,3]==your_country.lower():\n",
    "#        count_country+=1\n",
    "#print(count_country)"
   ]
  },
  {
   "cell_type": "code",
   "execution_count": 82,
   "id": "179ba2f3",
   "metadata": {},
   "outputs": [],
   "source": [
    "#count_state=0\n",
    "#quest_shark.state=quest_shark.state.str.lower()\n",
    "#for i in range(len(quest_shark.state)):\n",
    " #   if quest_shark.iloc[i,4]==your_state.lower():\n",
    "  #      count_state+=1\n",
    "#print(count_state)"
   ]
  },
  {
   "cell_type": "code",
   "execution_count": 100,
   "id": "490fcc57",
   "metadata": {},
   "outputs": [],
   "source": [
    "def information_shark_attack():\n",
    "    your_country=input(\"Which country would you like to travel to? \")\n",
    "    your_state=input(f\"Which state in {your_country} would you like to travel to? \")\n",
    "    \n",
    "    count_country=0\n",
    "    quest_shark.country=quest_shark.country.str.lower()\n",
    "    for i in range(len(quest_shark.country)):\n",
    "        if quest_shark.iloc[i,3]==your_country.lower():\n",
    "            count_country+=1\n",
    "    count_state=0\n",
    "    quest_shark.state=quest_shark.state.str.lower()\n",
    "    for i in range(len(quest_shark.state)):\n",
    "        if quest_shark.iloc[i,4]==your_state.lower():\n",
    "            count_state+=1\n",
    "    if count_country==0:\n",
    "        print(f\"There is  records of shark attacks in {your_country}\")\n",
    "    elif count_state==0 and count_country!=0:\n",
    "        print(f\"There is no records of shark attacks in {your_state}, however there are records of {count_country} shark attacks in {your_country}\")\n",
    "    else:\n",
    "        percentage_shark_attack=round((count_state/count_country)*100,2)\n",
    "        print(f\"Based on previous information, {percentage_shark_attack}% of sharks attacks in {your_country} are in {your_state}\")"
   ]
  },
  {
   "cell_type": "code",
   "execution_count": 101,
   "id": "d727fd08",
   "metadata": {
    "scrolled": false
   },
   "outputs": [
    {
     "name": "stdout",
     "output_type": "stream",
     "text": [
      "Which country would you like to travel to? Portugal\n",
      "Which state in Portugal would you like to travel to? Porto\n",
      "There is no records of shark attacks in Porto, however there are records of 4 shark attacks in Portugal\n"
     ]
    }
   ],
   "source": [
    "information_shark_attack()"
   ]
  },
  {
   "cell_type": "code",
   "execution_count": null,
   "id": "2b479539",
   "metadata": {},
   "outputs": [],
   "source": []
  }
 ],
 "metadata": {
  "kernelspec": {
   "display_name": "Python 3 (ipykernel)",
   "language": "python",
   "name": "python3"
  },
  "language_info": {
   "codemirror_mode": {
    "name": "ipython",
    "version": 3
   },
   "file_extension": ".py",
   "mimetype": "text/x-python",
   "name": "python",
   "nbconvert_exporter": "python",
   "pygments_lexer": "ipython3",
   "version": "3.11.5"
  }
 },
 "nbformat": 4,
 "nbformat_minor": 5
}
